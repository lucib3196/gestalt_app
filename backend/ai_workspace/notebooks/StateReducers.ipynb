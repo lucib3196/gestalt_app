{
 "cells": [
  {
   "cell_type": "markdown",
   "metadata": {},
   "source": [
    "# State Reducers"
   ]
  },
  {
   "cell_type": "markdown",
   "metadata": {},
   "source": [
    "## Default Overwritting State\n",
    "\n",
    "By default a states value is overwritten at each step\n",
    "\n",
    "In the following code we define foo with a value of 1, our node will just add 1. "
   ]
  },
  {
   "cell_type": "code",
   "execution_count": 2,
   "metadata": {},
   "outputs": [
    {
     "name": "stdout",
     "output_type": "stream",
     "text": [
      "--node1--\n"
     ]
    },
    {
     "data": {
      "text/plain": [
       "{'foo': 2}"
      ]
     },
     "execution_count": 2,
     "metadata": {},
     "output_type": "execute_result"
    }
   ],
   "source": [
    "from typing_extensions import TypedDict\n",
    "from IPython.display import Image, display\n",
    "from langgraph.graph import StateGraph, START,END\n",
    "\n",
    "class State(TypedDict):\n",
    "    foo: int\n",
    "    \n",
    "def node1(state):\n",
    "    print('--node1--')\n",
    "    return {'foo':state['foo']+1}\n",
    "\n",
    "builder = StateGraph(State)\n",
    "builder.add_node('node1',node1)\n",
    "\n",
    "builder.add_edge(START,'node1')\n",
    "builder.add_edge('node1',END)\n",
    "\n",
    "graph = builder.compile()\n",
    "\n",
    "graph.invoke({'foo':1})"
   ]
  },
  {
   "cell_type": "markdown",
   "metadata": {},
   "source": [
    "## Branching Paths"
   ]
  },
  {
   "cell_type": "code",
   "execution_count": 4,
   "metadata": {},
   "outputs": [
    {
     "data": {
      "image/png": "[encoded data removed]",
      "text/plain": [
       "<IPython.core.display.Image object>"
      ]
     },
     "metadata": {},
     "output_type": "display_data"
    }
   ],
   "source": [
    "class State(TypedDict):\n",
    "    foo: int\n",
    "    \n",
    "def node1(state):\n",
    "    print('--node1--')\n",
    "    return {'foo':state['foo']+1}\n",
    "\n",
    "def node2(state):\n",
    "    print('--node2--')\n",
    "    return {'foo':state['foo']+1}\n",
    "def node3(state):\n",
    "    print('--node3--')\n",
    "    return {'foo':state['foo']+1}\n",
    "\n",
    "builder = StateGraph(State)\n",
    "builder.add_node('node1',node1)\n",
    "builder.add_node('node2',node2)\n",
    "builder.add_node('node3',node3)\n",
    "\n",
    "builder.add_edge(START,'node1')\n",
    "builder.add_edge('node1','node2')\n",
    "builder.add_edge('node1','node3')\n",
    "builder.add_edge('node2',END)\n",
    "builder.add_edge('node3',END)\n",
    "graph = builder.compile()\n",
    "display(Image(graph.get_graph(xray=True).draw_mermaid_png()))\n"
   ]
  },
  {
   "cell_type": "code",
   "execution_count": 6,
   "metadata": {},
   "outputs": [
    {
     "name": "stdout",
     "output_type": "stream",
     "text": [
      "--node1--\n",
      "--node2--\n",
      "--node3--\n",
      "invalide error At key 'foo': Can receive only one value per step. Use an Annotated key to handle multiple values.\n",
      "For troubleshooting, visit: https://python.langchain.com/docs/troubleshooting/errors/INVALID_CONCURRENT_GRAPH_UPDATE\n"
     ]
    }
   ],
   "source": [
    "from langgraph.errors import InvalidUpdateError\n",
    "try:\n",
    "    graph.invoke({'foo':1})\n",
    "except InvalidUpdateError as e:\n",
    "    print(f'invalide error {e}')"
   ]
  },
  {
   "cell_type": "markdown",
   "metadata": {},
   "source": [
    "Essentially both nodes are working in parallel, thus it is unsure on how to update the state "
   ]
  }
 ],
 "metadata": {
  "kernelspec": {
   "display_name": ".venv",
   "language": "python",
   "name": "python3"
  },
  "language_info": {
   "codemirror_mode": {
    "name": "ipython",
    "version": 3
   },
   "file_extension": ".py",
   "mimetype": "text/x-python",
   "name": "python",
   "nbconvert_exporter": "python",
   "pygments_lexer": "ipython3",
   "version": "3.13.1"
  }
 },
 "nbformat": 4,
 "nbformat_minor": 2
}
