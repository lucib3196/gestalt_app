{
 "cells": [
  {
   "cell_type": "markdown",
   "metadata": {},
   "source": [
    "# Converting Question Data to SQLite Database\n",
    "This Jupyter notebook is designed to convert the question data from a CSV file into a structured SQLite database. This allows for more efficient storage, querying, and future data processing."
   ]
  },
  {
   "cell_type": "code",
   "execution_count": 15,
   "metadata": {},
   "outputs": [
    {
     "name": "stdout",
     "output_type": "stream",
     "text": [
      "Collecting pandas\n",
      "  Using cached pandas-2.2.3-cp313-cp313-win_amd64.whl.metadata (19 kB)\n",
      "Collecting numpy>=1.26.0 (from pandas)\n",
      "  Using cached numpy-2.2.4-cp313-cp313-win_amd64.whl.metadata (60 kB)\n",
      "Requirement already satisfied: python-dateutil>=2.8.2 in c:\\users\\lberm\\onedrive\\documents\\github\\gestalt_app\\backend\\.venv\\lib\\site-packages (from pandas) (2.9.0.post0)\n",
      "Collecting pytz>=2020.1 (from pandas)\n",
      "  Using cached pytz-2025.1-py2.py3-none-any.whl.metadata (22 kB)\n",
      "Collecting tzdata>=2022.7 (from pandas)\n",
      "  Using cached tzdata-2025.2-py2.py3-none-any.whl.metadata (1.4 kB)\n",
      "Requirement already satisfied: six>=1.5 in c:\\users\\lberm\\onedrive\\documents\\github\\gestalt_app\\backend\\.venv\\lib\\site-packages (from python-dateutil>=2.8.2->pandas) (1.17.0)\n",
      "Using cached pandas-2.2.3-cp313-cp313-win_amd64.whl (11.5 MB)\n",
      "Using cached numpy-2.2.4-cp313-cp313-win_amd64.whl (12.6 MB)\n",
      "Using cached pytz-2025.1-py2.py3-none-any.whl (507 kB)\n",
      "Using cached tzdata-2025.2-py2.py3-none-any.whl (347 kB)\n",
      "Installing collected packages: pytz, tzdata, numpy, pandas\n",
      "Successfully installed numpy-2.2.4 pandas-2.2.3 pytz-2025.1 tzdata-2025.2\n",
      "Note: you may need to restart the kernel to use updated packages.\n"
     ]
    },
    {
     "name": "stderr",
     "output_type": "stream",
     "text": [
      "\n",
      "[notice] A new release of pip is available: 24.3.1 -> 25.0.1\n",
      "[notice] To update, run: python.exe -m pip install --upgrade pip\n"
     ]
    }
   ],
   "source": [
    "%pip install pandas"
   ]
  },
  {
   "cell_type": "code",
   "execution_count": 16,
   "metadata": {},
   "outputs": [],
   "source": [
    "import os \n",
    "import sqlite3\n",
    "import pandas as pd"
   ]
  },
  {
   "cell_type": "code",
   "execution_count": 18,
   "metadata": {},
   "outputs": [
    {
     "name": "stdout",
     "output_type": "stream",
     "text": [
      "c:\\Users\\lberm\\OneDrive\\Documents\\Github\\gestalt_app\\backend\\ai_workspace\\data_processing\n"
     ]
    }
   ],
   "source": [
    "current_dir = os.getcwd()\n",
    "print(current_dir)\n",
    "file_path = os.path.join(current_dir, '..', 'data', 'Question_Embedding_20241230.csv')\n",
    "db_path = os.path.join(current_dir, '..','data', 'question_embedding_db.db')"
   ]
  },
  {
   "cell_type": "code",
   "execution_count": 35,
   "metadata": {},
   "outputs": [
    {
     "name": "stdout",
     "output_type": "stream",
     "text": [
      "Index(['Unnamed: 0.1', 'Question Title', 'Unnamed: 0', 'question.html',\n",
      "       'server.js', 'solution.html', 'server.py', 'properties.js',\n",
      "       'info1.json', 'server_trap.js', 'server1.py', 'server2.py', 'test1.py',\n",
      "       'server3.py', '.DS_Store', 'question', 'question_embedding', 'uuid',\n",
      "       'title', 'stem', 'topic', 'tags', 'prereqs', 'isAdaptive', 'createdBy',\n",
      "       'qType', 'nSteps', 'updatedBy', 'difficulty', 'codelang', 'resources',\n",
      "       'stepType', 'dificulty', 'embeddings-3-small', 'info.json', '_merge'],\n",
      "      dtype='object')\n"
     ]
    }
   ],
   "source": [
    "df = pd.read_csv(file_path,encoding=\"utf-8\", dtype=str)\n",
    "df = df.astype(str)\n",
    "print(df.columns)\n",
    "col_to_drop = ['Unnamed: 0.1','Unnamed: 0','uuid','stem','topic','tags','prereqs','isAdaptive','createdBy','qType','nSteps','updatedBy','difficulty','codelang','resources','stepType','dificulty','_merge','title']"
   ]
  },
  {
   "cell_type": "code",
   "execution_count": null,
   "metadata": {},
   "outputs": [
    {
     "data": {
      "text/html": [
       "<div>\n",
       "<style scoped>\n",
       "    .dataframe tbody tr th:only-of-type {\n",
       "        vertical-align: middle;\n",
       "    }\n",
       "\n",
       "    .dataframe tbody tr th {\n",
       "        vertical-align: top;\n",
       "    }\n",
       "\n",
       "    .dataframe thead th {\n",
       "        text-align: right;\n",
       "    }\n",
       "</style>\n",
       "<table border=\"1\" class=\"dataframe\">\n",
       "  <thead>\n",
       "    <tr style=\"text-align: right;\">\n",
       "      <th></th>\n",
       "      <th>Question Title</th>\n",
       "      <th>question.html</th>\n",
       "      <th>server.js</th>\n",
       "      <th>solution.html</th>\n",
       "      <th>server.py</th>\n",
       "      <th>properties.js</th>\n",
       "      <th>info1.json</th>\n",
       "      <th>server_trap.js</th>\n",
       "      <th>server1.py</th>\n",
       "      <th>server2.py</th>\n",
       "      <th>test1.py</th>\n",
       "      <th>server3.py</th>\n",
       "      <th>.DS_Store</th>\n",
       "      <th>question</th>\n",
       "      <th>question_embedding</th>\n",
       "      <th>embeddings-3-small</th>\n",
       "      <th>info.json</th>\n",
       "    </tr>\n",
       "  </thead>\n",
       "  <tbody>\n",
       "    <tr>\n",
       "      <th>0</th>\n",
       "      <td>1DHeatConduction</td>\n",
       "      <td>\\r\\n&lt;pl-question-panel&gt;\\r\\n    &lt;pl-figure file...</td>\n",
       "      <td>const math = require('mathjs');\\r\\n// const ma...</td>\n",
       "      <td>nan</td>\n",
       "      <td>nan</td>\n",
       "      <td>nan</td>\n",
       "      <td>nan</td>\n",
       "      <td>nan</td>\n",
       "      <td>nan</td>\n",
       "      <td>nan</td>\n",
       "      <td>nan</td>\n",
       "      <td>nan</td>\n",
       "      <td>nan</td>\n",
       "      <td>determine the heat rate passing through the wa...</td>\n",
       "      <td>[0.0025831139646470547, 0.006400103680789471, ...</td>\n",
       "      <td>[0.015802497044205666, -0.03678983449935913, 0...</td>\n",
       "      <td>nan</td>\n",
       "    </tr>\n",
       "    <tr>\n",
       "      <th>1</th>\n",
       "      <td>1DHeatConduction2</td>\n",
       "      <td>\\r\\n&lt;pl-question-panel&gt;\\r\\n    &lt;pl-figure file...</td>\n",
       "      <td>const math = require('mathjs');\\r\\n// const ma...</td>\n",
       "      <td>nan</td>\n",
       "      <td>nan</td>\n",
       "      <td>nan</td>\n",
       "      <td>nan</td>\n",
       "      <td>nan</td>\n",
       "      <td>nan</td>\n",
       "      <td>nan</td>\n",
       "      <td>nan</td>\n",
       "      <td>nan</td>\n",
       "      <td>nan</td>\n",
       "      <td>a heated driveway with the thermal conductivit...</td>\n",
       "      <td>[0.008779991418123245, 0.009904258884489536, 0...</td>\n",
       "      <td>[0.0229609664529562, -0.07461682707071304, -0....</td>\n",
       "      <td>nan</td>\n",
       "    </tr>\n",
       "    <tr>\n",
       "      <th>2</th>\n",
       "      <td>3DMoment1</td>\n",
       "      <td>&lt;pl-question-panel&gt;\\r\\n  &lt;pl-figure file-name=...</td>\n",
       "      <td>nan</td>\n",
       "      <td>&lt;pl-solution-panel&gt;\\r\\n    &lt;pl-figure file-nam...</td>\n",
       "      <td>nan</td>\n",
       "      <td>nan</td>\n",
       "      <td>nan</td>\n",
       "      <td>nan</td>\n",
       "      <td>nan</td>\n",
       "      <td>nan</td>\n",
       "      <td>nan</td>\n",
       "      <td>nan</td>\n",
       "      <td>nan</td>\n",
       "      <td>where should $g$ be located if the tension in ...</td>\n",
       "      <td>[-0.009700620546936989, -0.009693934582173824,...</td>\n",
       "      <td>[-0.02334902435541153, -0.0003407486656215042,...</td>\n",
       "      <td>nan</td>\n",
       "    </tr>\n",
       "    <tr>\n",
       "      <th>3</th>\n",
       "      <td>3DMoment2</td>\n",
       "      <td>&lt;pl-question-panel&gt;\\r\\n  &lt;pl-figure file-name=...</td>\n",
       "      <td>nan</td>\n",
       "      <td>&lt;pl-solution-panel&gt;\\r\\n    &lt;pl-figure file-nam...</td>\n",
       "      <td>nan</td>\n",
       "      <td>nan</td>\n",
       "      <td>nan</td>\n",
       "      <td>nan</td>\n",
       "      <td>nan</td>\n",
       "      <td>nan</td>\n",
       "      <td>nan</td>\n",
       "      <td>nan</td>\n",
       "      <td>nan</td>\n",
       "      <td>find the force acting on each of the three whe...</td>\n",
       "      <td>[-0.005409447941929102, -0.007940473966300488,...</td>\n",
       "      <td>[0.017233634367585182, -0.022736169397830963, ...</td>\n",
       "      <td>nan</td>\n",
       "    </tr>\n",
       "    <tr>\n",
       "      <th>4</th>\n",
       "      <td>3DMoment3</td>\n",
       "      <td>&lt;pl-question-panel&gt;\\r\\n  &lt;pl-figure file-name=...</td>\n",
       "      <td>nan</td>\n",
       "      <td>&lt;pl-solution-panel&gt;\\r\\n    &lt;pl-figure file-nam...</td>\n",
       "      <td>nan</td>\n",
       "      <td>nan</td>\n",
       "      <td>nan</td>\n",
       "      <td>nan</td>\n",
       "      <td>nan</td>\n",
       "      <td>nan</td>\n",
       "      <td>nan</td>\n",
       "      <td>nan</td>\n",
       "      <td>nan</td>\n",
       "      <td>what is the magnitude of the tension in cable ...</td>\n",
       "      <td>[-0.003007694147527218, 0.0014385714894160628,...</td>\n",
       "      <td>[0.043644580990076065, -0.013504264876246452, ...</td>\n",
       "      <td>nan</td>\n",
       "    </tr>\n",
       "  </tbody>\n",
       "</table>\n",
       "</div>"
      ],
      "text/plain": [
       "      Question Title                                      question.html  \\\n",
       "0   1DHeatConduction  \\r\\n<pl-question-panel>\\r\\n    <pl-figure file...   \n",
       "1  1DHeatConduction2  \\r\\n<pl-question-panel>\\r\\n    <pl-figure file...   \n",
       "2          3DMoment1  <pl-question-panel>\\r\\n  <pl-figure file-name=...   \n",
       "3          3DMoment2  <pl-question-panel>\\r\\n  <pl-figure file-name=...   \n",
       "4          3DMoment3  <pl-question-panel>\\r\\n  <pl-figure file-name=...   \n",
       "\n",
       "                                           server.js  \\\n",
       "0  const math = require('mathjs');\\r\\n// const ma...   \n",
       "1  const math = require('mathjs');\\r\\n// const ma...   \n",
       "2                                                nan   \n",
       "3                                                nan   \n",
       "4                                                nan   \n",
       "\n",
       "                                       solution.html server.py properties.js  \\\n",
       "0                                                nan       nan           nan   \n",
       "1                                                nan       nan           nan   \n",
       "2  <pl-solution-panel>\\r\\n    <pl-figure file-nam...       nan           nan   \n",
       "3  <pl-solution-panel>\\r\\n    <pl-figure file-nam...       nan           nan   \n",
       "4  <pl-solution-panel>\\r\\n    <pl-figure file-nam...       nan           nan   \n",
       "\n",
       "  info1.json server_trap.js server1.py server2.py test1.py server3.py  \\\n",
       "0        nan            nan        nan        nan      nan        nan   \n",
       "1        nan            nan        nan        nan      nan        nan   \n",
       "2        nan            nan        nan        nan      nan        nan   \n",
       "3        nan            nan        nan        nan      nan        nan   \n",
       "4        nan            nan        nan        nan      nan        nan   \n",
       "\n",
       "  .DS_Store                                           question  \\\n",
       "0       nan  determine the heat rate passing through the wa...   \n",
       "1       nan  a heated driveway with the thermal conductivit...   \n",
       "2       nan  where should $g$ be located if the tension in ...   \n",
       "3       nan  find the force acting on each of the three whe...   \n",
       "4       nan  what is the magnitude of the tension in cable ...   \n",
       "\n",
       "                                  question_embedding  \\\n",
       "0  [0.0025831139646470547, 0.006400103680789471, ...   \n",
       "1  [0.008779991418123245, 0.009904258884489536, 0...   \n",
       "2  [-0.009700620546936989, -0.009693934582173824,...   \n",
       "3  [-0.005409447941929102, -0.007940473966300488,...   \n",
       "4  [-0.003007694147527218, 0.0014385714894160628,...   \n",
       "\n",
       "                                  embeddings-3-small info.json  \n",
       "0  [0.015802497044205666, -0.03678983449935913, 0...       nan  \n",
       "1  [0.0229609664529562, -0.07461682707071304, -0....       nan  \n",
       "2  [-0.02334902435541153, -0.0003407486656215042,...       nan  \n",
       "3  [0.017233634367585182, -0.022736169397830963, ...       nan  \n",
       "4  [0.043644580990076065, -0.013504264876246452, ...       nan  "
      ]
     },
     "execution_count": 36,
     "metadata": {},
     "output_type": "execute_result"
    }
   ],
   "source": [
    "# Clean data\n",
    "try:\n",
    "    df= df.drop(columns=col_to_drop)\n",
    "except:\n",
    "    print(\"Columns already dropped\")\n",
    "df.head()"
   ]
  },
  {
   "cell_type": "code",
   "execution_count": 37,
   "metadata": {},
   "outputs": [],
   "source": [
    "## Convert to sqlite database\n",
    "conn = sqlite3.connect(db_path)\n",
    "\n",
    "df.to_sql(\"question_data\", conn, if_exists=\"replace\", index=False)\n",
    "conn.close()"
   ]
  }
 ],
 "metadata": {
  "kernelspec": {
   "display_name": ".venv",
   "language": "python",
   "name": "python3"
  },
  "language_info": {
   "codemirror_mode": {
    "name": "ipython",
    "version": 3
   },
   "file_extension": ".py",
   "mimetype": "text/x-python",
   "name": "python",
   "nbconvert_exporter": "python",
   "pygments_lexer": "ipython3",
   "version": "3.13.1"
  }
 },
 "nbformat": 4,
 "nbformat_minor": 2
}
